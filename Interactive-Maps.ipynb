{
  "nbformat": 4,
  "nbformat_minor": 0,
  "metadata": {
    "orig_nbformat": 4,
    "colab": {
      "name": "Interactive-Maps.ipynb",
      "provenance": []
    },
    "language_info": {
      "name": "python"
    },
    "kernelspec": {
      "name": "python3",
      "display_name": "Python 3"
    }
  },
  "cells": [
    {
      "cell_type": "code",
      "metadata": {
        "id": "w3jzXtFyn3gu",
        "outputId": "c9922ca2-fe34-4592-80e9-7e438d47dbf8",
        "colab": {
          "base_uri": "https://localhost:8080/"
        }
      },
      "source": [
        "pwd_mydir = %pwd\n",
        "print(pwd_mydir)"
      ],
      "execution_count": 58,
      "outputs": [
        {
          "output_type": "stream",
          "name": "stdout",
          "text": [
            "/content\n"
          ]
        }
      ]
    },
    {
      "cell_type": "code",
      "metadata": {
        "id": "8ovAwZ3_n89k",
        "outputId": "16492990-17e1-4a46-b397-5854b9fb2d4a",
        "colab": {
          "base_uri": "https://localhost:8080/"
        }
      },
      "source": [
        "%ls"
      ],
      "execution_count": 59,
      "outputs": [
        {
          "output_type": "stream",
          "name": "stdout",
          "text": [
            "\u001b[0m\u001b[01;34mPython-Geopandas\u001b[0m/  \u001b[01;34msample_data\u001b[0m/\n"
          ]
        }
      ]
    },
    {
      "cell_type": "code",
      "metadata": {
        "id": "1zkD2ZTuoAno"
      },
      "source": [
        "mydir = pwd_mydir+'/Python-Geopandas'"
      ],
      "execution_count": 60,
      "outputs": []
    },
    {
      "cell_type": "code",
      "metadata": {
        "id": "t9alPCKJoR3w",
        "outputId": "98a36180-bcd8-4889-9a7f-3bd1188a5234",
        "colab": {
          "base_uri": "https://localhost:8080/",
          "height": 35
        }
      },
      "source": [
        "mydir"
      ],
      "execution_count": 61,
      "outputs": [
        {
          "output_type": "execute_result",
          "data": {
            "application/vnd.google.colaboratory.intrinsic+json": {
              "type": "string"
            },
            "text/plain": [
              "'/content/Python-Geopandas'"
            ]
          },
          "metadata": {},
          "execution_count": 61
        }
      ]
    },
    {
      "cell_type": "code",
      "metadata": {
        "id": "fGjt-UZ5n0CO"
      },
      "source": [
        "import pandas as pd\n",
        "import geopandas as gpd\n",
        "\n",
        "import folium\n",
        "from folium import Choropleth\n",
        "from folium.plugins import HeatMap"
      ],
      "execution_count": 62,
      "outputs": []
    },
    {
      "cell_type": "code",
      "metadata": {
        "id": "_tfs-g0nn0CR"
      },
      "source": [
        "def embed_map(m, file_name):\n",
        "    from IPython.display import IFrame\n",
        "    m.save(file_name)\n",
        "    return IFrame(file_name, width='100%', height='500px')"
      ],
      "execution_count": 63,
      "outputs": []
    },
    {
      "cell_type": "code",
      "metadata": {
        "id": "tiFBOh6Pn0CS",
        "outputId": "087d5919-6383-4654-9426-0d087eafd993",
        "colab": {
          "base_uri": "https://localhost:8080/"
        }
      },
      "source": [
        "plate_boundaries = gpd.read_file(mydir+\"/input/geospatial-learn-course-data/Plate_Boundaries/Plate_Boundaries/Plate_Boundaries.shp\")\n",
        "plate_boundaries['coordinates'] = plate_boundaries.apply(lambda x: [(b,a) for (a,b) in list(x.geometry.coords)], axis='columns')\n",
        "plate_boundaries.drop('geometry', axis=1, inplace=True)\n",
        "\n",
        "print(plate_boundaries.head())"
      ],
      "execution_count": 65,
      "outputs": [
        {
          "output_type": "stream",
          "name": "stdout",
          "text": [
            "  HAZ_PLATES  ...                                        coordinates\n",
            "0     TRENCH  ...  [(-5.444200361999947, 133.6808931800001), (-5....\n",
            "1     TRENCH  ...  [(-7.760600482999962, 125.47879802900002), (-7...\n",
            "2     TRENCH  ...  [(19.817899819000047, 120.09999798800004), (19...\n",
            "3     TRENCH  ...  [(26.175899215000072, 143.20620700100005), (26...\n",
            "4     TRENCH  ...  [(0.41880004000006466, 132.8273013480001), (0....\n",
            "\n",
            "[5 rows x 5 columns]\n"
          ]
        }
      ]
    },
    {
      "cell_type": "code",
      "metadata": {
        "id": "5rpN1E2Rn0CS"
      },
      "source": [
        "# Load the data and print the first 5 rows\n",
        "earthquakes = pd.read_csv(\"../input/geospatial-learn-course-data/earthquakes1970-2014.csv\", parse_dates=[\"DateTime\"])\n",
        "earthquakes.head()"
      ],
      "execution_count": null,
      "outputs": []
    },
    {
      "cell_type": "code",
      "metadata": {
        "id": "2hpw1fgzn0CT"
      },
      "source": [
        "# Create a base map with plate boundaries\n",
        "m_1 = folium.Map(location=[35,136], tiles='cartodbpositron', zoom_start=5)\n",
        "for i in range(len(plate_boundaries)):\n",
        "    folium.PolyLine(locations=plate_boundaries.coordinates.iloc[i], weight=2, color='black').add_to(m_1)\n",
        "\n",
        "# Your code here: Add a heatmap to the map\n",
        "HeatMap(data = earthquakes[['Latitude','Longitude']],radius = 15).add_to(m_1)\n",
        "\n",
        "# Show the map\n",
        "embed_map(m_1, 'q_1.html')"
      ],
      "execution_count": null,
      "outputs": []
    },
    {
      "cell_type": "code",
      "metadata": {
        "id": "vHfjHOuFn0CT"
      },
      "source": [
        "# Create a base map with plate boundaries\n",
        "m_2 = folium.Map(location=[35,136], tiles='cartodbpositron', zoom_start=5)\n",
        "for i in range(len(plate_boundaries)):\n",
        "    folium.PolyLine(locations=plate_boundaries.coordinates.iloc[i], weight=2, color='black').add_to(m_2)\n",
        "    \n",
        "# Your code here: Add a map to visualize earthquake depth\n",
        "# Custom function to assign a color to each circle\n",
        "def color_producer(val):\n",
        "    if val < 50:\n",
        "        return 'forestgreen'\n",
        "    elif val < 100:\n",
        "        return 'darkorange'\n",
        "    else:\n",
        "        return 'darkred'\n",
        "\n",
        "for i in range(0, len(earthquakes)):\n",
        "    folium.Circle(location=[earthquakes.iloc[i]['Latitude'],earthquakes.iloc[i]['Longitude']], radius = 2000, color=color_producer(earthquakes.iloc[i]['Depth'])).add_to(m_2)\n",
        "\n",
        "\n",
        "# View the map\n",
        "embed_map(m_2, 'q_2.html')"
      ],
      "execution_count": null,
      "outputs": []
    },
    {
      "cell_type": "code",
      "metadata": {
        "id": "zVHfH1-an0CU"
      },
      "source": [
        ""
      ],
      "execution_count": null,
      "outputs": []
    },
    {
      "cell_type": "code",
      "metadata": {
        "id": "pYIJ9Yt9n0CV"
      },
      "source": [
        ""
      ],
      "execution_count": null,
      "outputs": []
    },
    {
      "cell_type": "code",
      "metadata": {
        "id": "YllCUJWon0CV"
      },
      "source": [
        ""
      ],
      "execution_count": null,
      "outputs": []
    }
  ]
}