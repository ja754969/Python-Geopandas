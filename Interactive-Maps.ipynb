{
 "cells": [
  {
   "cell_type": "code",
   "execution_count": null,
   "source": [
    "import pandas as pd\n",
    "import geopandas as gpd\n",
    "\n",
    "import folium\n",
    "from folium import Choropleth\n",
    "from folium.plugins import HeatMap"
   ],
   "outputs": [],
   "metadata": {}
  },
  {
   "cell_type": "code",
   "execution_count": null,
   "source": [
    "def embed_map(m, file_name):\n",
    "    from IPython.display import IFrame\n",
    "    m.save(file_name)\n",
    "    return IFrame(file_name, width='100%', height='500px')"
   ],
   "outputs": [],
   "metadata": {}
  },
  {
   "cell_type": "code",
   "execution_count": null,
   "source": [
    "plate_boundaries = gpd.read_file(\"../input/geospatial-learn-course-data/Plate_Boundaries/Plate_Boundaries/Plate_Boundaries.shp\")\n",
    "plate_boundaries['coordinates'] = plate_boundaries.apply(lambda x: [(b,a) for (a,b) in list(x.geometry.coords)], axis='columns')\n",
    "plate_boundaries.drop('geometry', axis=1, inplace=True)\n",
    "\n",
    "print(plate_boundaries.head())\n"
   ],
   "outputs": [],
   "metadata": {}
  },
  {
   "cell_type": "code",
   "execution_count": null,
   "source": [
    "# Load the data and print the first 5 rows\n",
    "earthquakes = pd.read_csv(\"../input/geospatial-learn-course-data/earthquakes1970-2014.csv\", parse_dates=[\"DateTime\"])\n",
    "earthquakes.head()"
   ],
   "outputs": [],
   "metadata": {}
  },
  {
   "cell_type": "code",
   "execution_count": null,
   "source": [
    "# Create a base map with plate boundaries\n",
    "m_1 = folium.Map(location=[35,136], tiles='cartodbpositron', zoom_start=5)\n",
    "for i in range(len(plate_boundaries)):\n",
    "    folium.PolyLine(locations=plate_boundaries.coordinates.iloc[i], weight=2, color='black').add_to(m_1)\n",
    "\n",
    "# Your code here: Add a heatmap to the map\n",
    "HeatMap(data = earthquakes[['Latitude','Longitude']],radius = 15).add_to(m_1)\n",
    "\n",
    "# Show the map\n",
    "embed_map(m_1, 'q_1.html')"
   ],
   "outputs": [],
   "metadata": {}
  },
  {
   "cell_type": "code",
   "execution_count": null,
   "source": [
    "# Create a base map with plate boundaries\n",
    "m_2 = folium.Map(location=[35,136], tiles='cartodbpositron', zoom_start=5)\n",
    "for i in range(len(plate_boundaries)):\n",
    "    folium.PolyLine(locations=plate_boundaries.coordinates.iloc[i], weight=2, color='black').add_to(m_2)\n",
    "    \n",
    "# Your code here: Add a map to visualize earthquake depth\n",
    "# Custom function to assign a color to each circle\n",
    "def color_producer(val):\n",
    "    if val < 50:\n",
    "        return 'forestgreen'\n",
    "    elif val < 100:\n",
    "        return 'darkorange'\n",
    "    else:\n",
    "        return 'darkred'\n",
    "\n",
    "for i in range(0, len(earthquakes)):\n",
    "    folium.Circle(location=[earthquakes.iloc[i]['Latitude'],earthquakes.iloc[i]['Longitude']], radius = 2000, color=color_producer(earthquakes.iloc[i]['Depth'])).add_to(m_2)\n",
    "\n",
    "\n",
    "# View the map\n",
    "embed_map(m_2, 'q_2.html')"
   ],
   "outputs": [],
   "metadata": {}
  },
  {
   "cell_type": "code",
   "execution_count": null,
   "source": [],
   "outputs": [],
   "metadata": {}
  },
  {
   "cell_type": "code",
   "execution_count": null,
   "source": [],
   "outputs": [],
   "metadata": {}
  },
  {
   "cell_type": "code",
   "execution_count": null,
   "source": [],
   "outputs": [],
   "metadata": {}
  }
 ],
 "metadata": {
  "orig_nbformat": 4,
  "language_info": {
   "name": "python"
  }
 },
 "nbformat": 4,
 "nbformat_minor": 2
}